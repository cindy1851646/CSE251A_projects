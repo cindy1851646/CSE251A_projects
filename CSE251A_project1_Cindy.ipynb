{
 "cells": [
  {
   "cell_type": "code",
   "execution_count": 132,
   "id": "665468ee",
   "metadata": {},
   "outputs": [],
   "source": [
    "import numpy as np\n",
    "from keras.datasets import mnist\n",
    "from sklearn.neighbors import KNeighborsClassifier\n",
    "from sklearn.metrics import accuracy_score\n",
    "from sklearn.cluster import KMeans\n",
    "\n",
    "(X_train, y_train), (X_test, y_test) = mnist.load_data()\n"
   ]
  },
  {
   "cell_type": "code",
   "execution_count": 150,
   "id": "188e354c",
   "metadata": {},
   "outputs": [],
   "source": [
    "M = 1000"
   ]
  },
  {
   "cell_type": "code",
   "execution_count": 151,
   "id": "cea09692",
   "metadata": {},
   "outputs": [
    {
     "name": "stdout",
     "output_type": "stream",
     "text": [
      "1NN random Accuracy: 0.8833\n"
     ]
    }
   ],
   "source": [
    "random_indices = np.random.choice(len(X_train), size=M, replace=False)\n",
    "\n",
    "#selecting M=10000 randomly\n",
    "selected_M_x = X_train[random_indices]\n",
    "selected_M_y = y_train[random_indices]\n",
    "\n",
    "#1nn classifier from sklearn\n",
    "knn_classifier = KNeighborsClassifier(n_neighbors=1)\n",
    "\n",
    "reshaped_X_train= X_train.reshape(60000,-1)\n",
    "reshaped_X_test = X_test.reshape(10000,-1)\n",
    "\n",
    "reshaped_M_x= selected_M_x.reshape(M,-1)\n",
    "\n",
    "# Train the classifier on the training data\n",
    "knn_classifier.fit(reshaped_M_x, selected_M_y)\n",
    "\n",
    "# Make predictions on the test data\n",
    "y_pred = knn_classifier.predict(reshaped_X_test)\n",
    "\n",
    "# Evaluate the accuracy\n",
    "accuracy = accuracy_score(y_test, y_pred)\n",
    "print(\"1NN random Accuracy:\", accuracy)\n"
   ]
  },
  {
   "cell_type": "code",
   "execution_count": 152,
   "id": "c1daf7fd",
   "metadata": {},
   "outputs": [
    {
     "name": "stdout",
     "output_type": "stream",
     "text": [
      "Bucket for label 0, shape: (5923, 784)\n",
      "Bucket for label 1, shape: (6742, 784)\n",
      "Bucket for label 2, shape: (5958, 784)\n",
      "Bucket for label 3, shape: (6131, 784)\n",
      "Bucket for label 4, shape: (5842, 784)\n",
      "Bucket for label 5, shape: (5421, 784)\n",
      "Bucket for label 6, shape: (5918, 784)\n",
      "Bucket for label 7, shape: (6265, 784)\n",
      "Bucket for label 8, shape: (5851, 784)\n",
      "Bucket for label 9, shape: (5949, 784)\n",
      "0\n"
     ]
    }
   ],
   "source": [
    "#Kmeans using 10 buckets method\n",
    "\n",
    "# Create a dictionary to hold the buckets\n",
    "buckets = {}\n",
    "cluster_centers = []\n",
    "\n",
    "kmeans_x_train = []\n",
    "kmeans_y_train = []\n",
    "\n",
    "# Iterate through each label and populate the corresponding bucket\n",
    "for label in range(10):  # Assuming labels range from 0 to 9\n",
    "    bucket_indices = np.where(y_train == label)[0]\n",
    "    buckets[label] = reshaped_X_train[bucket_indices]\n",
    "\n",
    "# Print the shapes of the resulting buckets\n",
    "for label, bucket in buckets.items():\n",
    "    print(f\"Bucket for label {label}, shape: {bucket.shape}\")\n",
    "\n",
    "# Perform k-means clustering multiple times on different subsets of the dataset\n",
    "k=M//10\n",
    "\n",
    "for i in range(10):\n",
    "    # Create a KMeans instance\n",
    "    kmeans = KMeans(n_clusters= k, random_state=42,n_init=\"auto\")\n",
    "    \n",
    "    # Fit the model to the subset of the data\n",
    "    kmeans.fit(buckets[i])\n",
    "    \n",
    "    # Get cluster labels and cluster centers\n",
    "    cluster_centers.append(kmeans.cluster_centers_)\n",
    "\n",
    "kmeans_x_train = np.concatenate(cluster_centers, axis=0)\n",
    "for i in range(10):\n",
    "    kmeans_y_train.append([i] * cluster_centers[i].shape[0])\n",
    "kmeans_y_train = np.concatenate(kmeans_y_train)\n",
    "print(kmeans_y_train[0])"
   ]
  },
  {
   "cell_type": "code",
   "execution_count": 153,
   "id": "af24e880",
   "metadata": {
    "scrolled": true
   },
   "outputs": [
    {
     "name": "stdout",
     "output_type": "stream",
     "text": [
      "Kmeans with buckets accuracy_1NN:  0.9579\n"
     ]
    }
   ],
   "source": [
    "kmeans_buckets_1nn = KNeighborsClassifier(n_neighbors=1)\n",
    "kmeans_buckets_1nn.fit(kmeans_x_train, kmeans_y_train)\n",
    "\n",
    "y_pred = kmeans_buckets_1nn.predict(reshaped_X_test)\n",
    "kmeans_buckets_accuracy = accuracy_score(y_test, y_pred)\n",
    "print(\"Kmeans with buckets accuracy_1NN: \",kmeans_buckets_accuracy)"
   ]
  },
  {
   "cell_type": "code",
   "execution_count": 137,
   "id": "78f3dd7b",
   "metadata": {},
   "outputs": [],
   "source": [
    "def majority_vote(M):\n",
    "    kmeans = KMeans(n_clusters=M, random_state=0, n_init=\"auto\").fit(train_X)\n",
    "\n",
    "    clusters = []\n",
    "    train_X_majority = []\n",
    "    train_y_majority = []\n",
    "\n",
    "    for _ in range(M):\n",
    "        clusters.append([])\n",
    "    for i in range(train_X.shape[0]):\n",
    "        clusters[kmeans.labels_[i]].append(i)\n",
    "    for clust in clusters:\n",
    "        # clust contains indices of training data\n",
    "        count = [0] * 10\n",
    "        for j in clust:\n",
    "            count[train_y[j]] += 1\n",
    "        label = count.index(max(count)) # Majority vote. Break ties by the smallest label\n",
    "        centroid = np.mean(train_X[clust], axis=0)\n",
    "        train_X_majority.append(centroid)\n",
    "        train_y_majority.append(label)\n",
    "    train_X_majority = np.array(train_X_majority)\n",
    "    train_y_majority = np.array(train_y_majority)\n",
    "    assert(train_X_majority.shape[0] == M)\n",
    "    assert(train_y_majority.shape[0] == M)\n",
    "    neigh_majority_1nn = KNeighborsClassifier(n_neighbors=1)\n",
    "    neigh_majority_1nn.fit(train_X_majority, train_y_majority)\n",
    "    neigh_majority_1nn.score(test_X, test_y)"
   ]
  },
  {
   "cell_type": "code",
   "execution_count": null,
   "id": "cd567d1a",
   "metadata": {},
   "outputs": [],
   "source": []
  },
  {
   "cell_type": "code",
   "execution_count": null,
   "id": "ce315d22",
   "metadata": {},
   "outputs": [],
   "source": []
  },
  {
   "cell_type": "code",
   "execution_count": 138,
   "id": "6469cb04",
   "metadata": {},
   "outputs": [],
   "source": [
    "# 5. What if we do KMeans multiple times with different random seeds? \n",
    "# Since KMeans is random, I suspect averaging over these will give a better performance.\n",
    "# Then we would have multiple copies of M/10 centroids. \n",
    "# What if we do another KMeans clustering over these?\n",
    "\n",
    "# Do this for the 10 buckets, not the whole dataset, since KMeans on the whole dataset takes too long"
   ]
  },
  {
   "cell_type": "code",
   "execution_count": 139,
   "id": "9bae84be",
   "metadata": {},
   "outputs": [],
   "source": [
    "k = M//10\n",
    "cluster_centers_0 = []\n",
    "kmeans_y_train_0 = []\n",
    "for i in range(10):\n",
    "    # Create a KMeans instance\n",
    "    kmeans_random_seeds_0 = KMeans(n_clusters= k, random_state=0,n_init=\"auto\")\n",
    "    \n",
    "    # Fit the model to the subset of the data\n",
    "    kmeans_random_seeds_0.fit(buckets[i])\n",
    "    \n",
    "    # Get cluster labels and cluster centers\n",
    "    cluster_centers_0.append(kmeans_random_seeds_0.cluster_centers_)\n",
    "cluster_centers_0 = np.concatenate(cluster_centers_0, axis=0)\n",
    "    \n",
    "for i in range(10):\n",
    "    kmeans_y_train_0.append([i] * cluster_centers_0[i].shape[0])\n",
    "kmeans_y_train_0 = np.concatenate(kmeans_y_train_0)"
   ]
  },
  {
   "cell_type": "code",
   "execution_count": 140,
   "id": "8188c0a6",
   "metadata": {},
   "outputs": [],
   "source": [
    "cluster_centers_42 = []\n",
    "kmeans_y_train_42 = []\n",
    "for i in range(10):\n",
    "    # Create a KMeans instance\n",
    "    kmeans_random_seeds_42 = KMeans(n_clusters= k, random_state=42, n_init=\"auto\")\n",
    "    \n",
    "    # Fit the model to the subset of the data\n",
    "    kmeans_random_seeds_42.fit(buckets[i])\n",
    "    \n",
    "    # Get cluster labels and cluster centers\n",
    "    cluster_centers_42.append(kmeans_random_seeds_42.cluster_centers_)\n",
    "\n",
    "cluster_centers_42 = np.concatenate(cluster_centers_42, axis=0)    \n",
    "\n",
    "for i in range(10):\n",
    "    kmeans_y_train_42.append([i] * cluster_centers_42[i].shape[0])\n",
    "\n",
    "kmeans_y_train_42 = np.concatenate(kmeans_y_train_42)"
   ]
  },
  {
   "cell_type": "code",
   "execution_count": 141,
   "id": "7553dc0d",
   "metadata": {},
   "outputs": [],
   "source": [
    "cluster_centers_88 = []\n",
    "kmeans_y_train_88 = []\n",
    "\n",
    "for i in range(10):\n",
    "    # Create a KMeans instance\n",
    "    kmeans_random_seeds_88 = KMeans(n_clusters= k, random_state=88, n_init=\"auto\")\n",
    "    \n",
    "    # Fit the model to the subset of the data\n",
    "    kmeans_random_seeds_88.fit(buckets[i])\n",
    "    \n",
    "    # Get cluster labels and cluster centers\n",
    "    cluster_centers_88.append(kmeans_random_seeds_88.cluster_centers_)\n",
    "\n",
    "cluster_centers_88 = np.concatenate(cluster_centers_88, axis=0) \n",
    "    \n",
    "for i in range(10):\n",
    "    kmeans_y_train_88.append([i] * cluster_centers_88[i].shape[0])\n",
    "\n",
    "kmeans_y_train_88 = np.concatenate(kmeans_y_train_88)\n"
   ]
  },
  {
   "cell_type": "code",
   "execution_count": 142,
   "id": "856fb6dc",
   "metadata": {},
   "outputs": [],
   "source": [
    "x_train_randomseed = []\n",
    "x_train_randomseed.append(cluster_centers_0)\n",
    "x_train_randomseed.append(cluster_centers_42)\n",
    "x_train_randomseed.append(cluster_centers_88)\n",
    "\n",
    "x_train_randomseed = np.concatenate(x_train_randomseed, axis=0)\n",
    "\n",
    "y_train_randomseed = []\n",
    "y_train_randomseed.append(kmeans_y_train_0)\n",
    "y_train_randomseed.append(kmeans_y_train_42)\n",
    "y_train_randomseed.append(kmeans_y_train_88)\n",
    "\n",
    "y_train_randomseed = np.concatenate(y_train_randomseed)\n",
    "\n",
    "cluster_centers_total = []\n",
    "\n",
    "\n",
    "# Create a KMeans instance\n",
    "kmeans_random_seeds = KMeans(n_clusters= M, random_state=42, n_init=\"auto\")\n",
    "    \n",
    "# Fit the model to the subset of the data\n",
    "kmeans_random_seeds.fit(x_train_randomseed)\n",
    "    \n",
    "cluster_centers_total.append(kmeans_random_seeds.cluster_centers_)\n",
    "\n",
    "cluster_centers_total = np.concatenate(cluster_centers_total, axis=0) \n"
   ]
  },
  {
   "cell_type": "code",
   "execution_count": 143,
   "id": "5806bddb",
   "metadata": {},
   "outputs": [
    {
     "data": {
      "text/plain": [
       "(10000, 784)"
      ]
     },
     "execution_count": 143,
     "metadata": {},
     "output_type": "execute_result"
    }
   ],
   "source": [
    "cluster_centers_total.shape"
   ]
  },
  {
   "cell_type": "code",
   "execution_count": 144,
   "id": "53a5acfd",
   "metadata": {},
   "outputs": [
    {
     "data": {
      "text/plain": [
       "(30000,)"
      ]
     },
     "execution_count": 144,
     "metadata": {},
     "output_type": "execute_result"
    }
   ],
   "source": [
    "kmeans_random_seeds.labels_.shape"
   ]
  },
  {
   "cell_type": "code",
   "execution_count": 145,
   "id": "d90ea8b8",
   "metadata": {},
   "outputs": [
    {
     "name": "stdout",
     "output_type": "stream",
     "text": [
      "[7 2 1 ... 4 5 6]\n",
      "Kmeans with random seeds combined accuracy_1NN:  0.0996\n"
     ]
    }
   ],
   "source": [
    "kmeans_y_train_total = []\n",
    "for i in range(10000):\n",
    "    kmeans_y_train_total.append(y_train_randomseed[kmeans_random_seeds.labels_[i]])\n",
    "\n",
    "\n",
    "kmeans_buckets_1nn = KNeighborsClassifier(n_neighbors=1)\n",
    "kmeans_buckets_1nn.fit(cluster_centers_total, kmeans_y_train_total)\n",
    "\n",
    "y_pred = kmeans_buckets_1nn.predict(reshaped_X_test)\n",
    "print(y_test)\n",
    "kmeans_randomseeds_accuracy = accuracy_score(y_test, y_pred)\n",
    "print(\"Kmeans with random seeds combined accuracy_1NN: \",kmeans_randomseeds_accuracy)"
   ]
  },
  {
   "cell_type": "code",
   "execution_count": null,
   "id": "ae89e1ba",
   "metadata": {},
   "outputs": [],
   "source": []
  }
 ],
 "metadata": {
  "kernelspec": {
   "display_name": "Python 3 (ipykernel)",
   "language": "python",
   "name": "python3"
  },
  "language_info": {
   "codemirror_mode": {
    "name": "ipython",
    "version": 3
   },
   "file_extension": ".py",
   "mimetype": "text/x-python",
   "name": "python",
   "nbconvert_exporter": "python",
   "pygments_lexer": "ipython3",
   "version": "3.11.5"
  }
 },
 "nbformat": 4,
 "nbformat_minor": 5
}
